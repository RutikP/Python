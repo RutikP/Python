{
 "cells": [
  {
   "cell_type": "code",
   "execution_count": 19,
   "metadata": {},
   "outputs": [
    {
     "name": "stdout",
     "output_type": "stream",
     "text": [
      "05:09:30\n"
     ]
    }
   ],
   "source": [
    "class Time(object):\n",
    "    def __init__(self,hour=0,minute=0,second=0):\n",
    "        self.hour = hour\n",
    "        self.minute = minute\n",
    "        self.second = second\n",
    "    def print_time(self):\n",
    "        print('%.2d:%.2d:%.2d' % (self.hour,self.minute,self.second))\n",
    "    \n",
    "start = Time(5,9,30)\n",
    "start.print_time()"
   ]
  },
  {
   "cell_type": "markdown",
   "metadata": {},
   "source": [
    "# The __str__ method"
   ]
  },
  {
   "cell_type": "markdown",
   "metadata": {},
   "source": [
    "This __str__ returns a string representation of an object"
   ]
  },
  {
   "cell_type": "code",
   "execution_count": 33,
   "metadata": {},
   "outputs": [
    {
     "name": "stdout",
     "output_type": "stream",
     "text": [
      "05:09:30\n",
      "05/09/30\n"
     ]
    }
   ],
   "source": [
    "class Time1(object):\n",
    "    def __init__(self,hour=0,minute=0,second=0):\n",
    "        self.hour = hour\n",
    "        self.minute = minute\n",
    "        self.second = second\n",
    "    def print_time(self):\n",
    "        print('%.2d:%.2d:%.2d' % (self.hour,self.minute,self.second))\n",
    "    def __str__(self):\n",
    "        return '%.2d/%.2d/%.2d' % (self.hour,self.minute,self.second)\n",
    "    \n",
    "start1 = Time1(5,9,30)\n",
    "start1.print_time()\n",
    "print(start1)"
   ]
  },
  {
   "cell_type": "markdown",
   "metadata": {},
   "source": [
    "# Opeartor Overloading"
   ]
  },
  {
   "cell_type": "markdown",
   "metadata": {},
   "source": [
    "When we want to add two objects with binary ‘+’ operator it throws an error, because compiler don’t know how to add two objects. So we define a method for an operator and that process is called operator overloading."
   ]
  },
  {
   "cell_type": "markdown",
   "metadata": {},
   "source": [
    "For Example:->"
   ]
  },
  {
   "cell_type": "code",
   "execution_count": 32,
   "metadata": {},
   "outputs": [
    {
     "name": "stdout",
     "output_type": "stream",
     "text": [
      "11\n"
     ]
    }
   ],
   "source": [
    "class A:\n",
    "    def __init__(self, a):\n",
    "        self.a = a\n",
    "    def __add__(self, o):\n",
    "        return self.a + o.a\n",
    "obj1 = A(6)\n",
    "obj2 = A(5)\n",
    "print(obj1 + obj2)"
   ]
  },
  {
   "cell_type": "code",
   "execution_count": 47,
   "metadata": {},
   "outputs": [
    {
     "name": "stdout",
     "output_type": "stream",
     "text": [
      "09:62:55\n"
     ]
    }
   ],
   "source": [
    "class newTime():\n",
    "    def __init__(self,hr,minu,sec):\n",
    "        self.hr =hr\n",
    "        self.minu = minu\n",
    "        self.sec = sec\n",
    "    def __add__(self, other):\n",
    "        return '%.2d:%.2d:%.2d' % (self.hr+other.hr,self.minu+other.minu,self.sec+other.sec)\n",
    "    \n",
    "nt1 = newTime(5,32,30)\n",
    "nt2 = newTime(4,30,25)\n",
    "print(nt1+nt2)\n",
    " \n",
    "        "
   ]
  },
  {
   "cell_type": "markdown",
   "metadata": {},
   "source": [
    "# Polymorphism"
   ]
  },
  {
   "cell_type": "markdown",
   "metadata": {},
   "source": [
    "The word polymorphism means many forms. In programming, polymorphism means same function name(but different signatures) being used for different types."
   ]
  },
  {
   "cell_type": "code",
   "execution_count": 60,
   "metadata": {},
   "outputs": [
    {
     "name": "stdout",
     "output_type": "stream",
     "text": [
      "5\n",
      "9\n"
     ]
    }
   ],
   "source": [
    "def add(x,y,z=0):  \n",
    "    return x + y + z \n",
    "  \n",
    "# Driver code  \n",
    "print(add(2, 3)) \n",
    "print(add(2, 3, 4))\n"
   ]
  },
  {
   "cell_type": "code",
   "execution_count": 61,
   "metadata": {},
   "outputs": [
    {
     "name": "stdout",
     "output_type": "stream",
     "text": [
      "Final year completed in MMBS\n",
      "Studying\n",
      "Bhalki\n",
      "2nd year completed in CSE Engg..\n",
      "Watching Movies\n",
      "Bhalki\n"
     ]
    }
   ],
   "source": [
    "class Nisha():\n",
    "    def qualification(self):\n",
    "        print(\"Final year completed in MMBS\")\n",
    "    def hobbies(self):\n",
    "        print(\"Studying\")\n",
    "    def fromcity(self):\n",
    "        print(\"Bhalki\")\n",
    "class Rutik():\n",
    "    def qualification(self):\n",
    "        print(\"2nd year completed in CSE Engg..\")\n",
    "    def hobbies(self):\n",
    "        print(\"Watching Movies\")\n",
    "    def fromcity(self):\n",
    "        print(\"Bhalki\")\n",
    "\n",
    "ob1 = Nisha()\n",
    "ob2 = Rutik()\n",
    "for biodata in (ob1, ob2):\n",
    "    biodata.qualification()\n",
    "    biodata.hobbies()\n",
    "    biodata.fromcity()\n",
    "    "
   ]
  },
  {
   "cell_type": "code",
   "execution_count": 67,
   "metadata": {},
   "outputs": [
    {
     "name": "stdout",
     "output_type": "stream",
     "text": [
      "{'spam': 3, 'emli': 1, 'bacon': 1}\n",
      "{1: 2, 2: 1, 3: 2}\n"
     ]
    }
   ],
   "source": [
    "def histogram(s):\n",
    "    d = dict()\n",
    "    for c in s:\n",
    "        if c not in d:\n",
    "            d[c] = 1\n",
    "        else:\n",
    "            d[c] = d[c] + 1\n",
    "    return d\n",
    "t = ['spam','emli','spam','bacon','spam']\n",
    "t1 = [1,2,3,1,3]\n",
    "print(histogram(t))\n",
    "print(histogram(t1))"
   ]
  },
  {
   "cell_type": "markdown",
   "metadata": {},
   "source": [
    "Inheritance is the capability of one class to derive or inherit the properties from another class."
   ]
  },
  {
   "cell_type": "code",
   "execution_count": 77,
   "metadata": {},
   "outputs": [
    {
     "name": "stdout",
     "output_type": "stream",
     "text": [
      "jup1 False\n",
      "Jup2 True\n"
     ]
    }
   ],
   "source": [
    "class Person(object):\n",
    "    \n",
    "    # Constructor\n",
    "    def __init__(self, name):\n",
    "        self.name = name\n",
    "        \n",
    "    # To get name\n",
    "    def getname(self):\n",
    "        return self.name\n",
    "    \n",
    "    # To check if the person is employee\n",
    "    def isEmployee(self):\n",
    "        return False\n",
    "# Inherited or Subclass (Note Person in bracket)    \n",
    "class Employee(Person):\n",
    "    \n",
    "    # here we return true\n",
    "    def isEmployee(self):\n",
    "        return True\n",
    "\n",
    "emp = Person(\"jup1\")# An Object of Person\n",
    "print(emp.getname(), emp.isEmployee())\n",
    "\n",
    "emp = Employee(\"Jup2\")# An Object of Employee\n",
    "print(emp.getname(), emp.isEmployee())"
   ]
  },
  {
   "cell_type": "code",
   "execution_count": null,
   "metadata": {},
   "outputs": [],
   "source": []
  }
 ],
 "metadata": {
  "kernelspec": {
   "display_name": "Python 3",
   "language": "python",
   "name": "python3"
  },
  "language_info": {
   "codemirror_mode": {
    "name": "ipython",
    "version": 3
   },
   "file_extension": ".py",
   "mimetype": "text/x-python",
   "name": "python",
   "nbconvert_exporter": "python",
   "pygments_lexer": "ipython3",
   "version": "3.9.0"
  }
 },
 "nbformat": 4,
 "nbformat_minor": 4
}
