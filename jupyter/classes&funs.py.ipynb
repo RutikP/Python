{
 "cells": [
  {
   "cell_type": "markdown",
   "metadata": {},
   "source": [
    "# Classes and Functions"
   ]
  },
  {
   "cell_type": "markdown",
   "metadata": {},
   "source": [
    "class Time:\n",
    "    \"\"\"Represents the time of the day.\n",
    "    attributes: hour, minute, second\n",
    "    \"\"\""
   ]
  },
  {
   "cell_type": "markdown",
   "metadata": {},
   "source": [
    "time = Time()\n",
    "time.hour = 11\n",
    "time.minute = 59\n",
    "time.second = 30"
   ]
  },
  {
   "cell_type": "code",
   "execution_count": 33,
   "metadata": {},
   "outputs": [
    {
     "name": "stdout",
     "output_type": "stream",
     "text": [
      "<__main__.Time object at 0x00000214B8AB0310>\n"
     ]
    }
   ],
   "source": [
    "\n",
    "class Time:\n",
    "    \"\"\"Represents the time of the day.\n",
    "    attributes: hour, minute, second\n",
    "    \"\"\"\n",
    "start = Time()\n",
    "start.hour = 9\n",
    "start.minute = 40\n",
    "start.second = 50\n",
    "duration = Time()\n",
    "duration.hour = 8\n",
    "duration.minute = 35\n",
    "duration.second = 34\n",
    "\n",
    "def add_time(t1,t2):\n",
    "    sum = Time()\n",
    "    sum.hour = t1.hour + t2.hour\n",
    "    sum.minute = t1.minute + t2.minute\n",
    "    sum.second = t1.second + t2.second\n",
    "    if sum.second >= 60:\n",
    "        sum.second -= 60\n",
    "        sum.minute += 1\n",
    "    if sum.minute >= 60:\n",
    "        sum.minute -= 60\n",
    "        sum.hour += 1\n",
    "    return sum\n",
    "\n",
    "done = add_time(start, duration)\n",
    "print(done)\n"
   ]
  },
  {
   "cell_type": "code",
   "execution_count": 5,
   "metadata": {},
   "outputs": [
    {
     "name": "stdout",
     "output_type": "stream",
     "text": [
      "11 59 30\n"
     ]
    }
   ],
   "source": [
    "print(time.hour,time.minute,time.second)"
   ]
  },
  {
   "cell_type": "code",
   "execution_count": 6,
   "metadata": {},
   "outputs": [],
   "source": [
    "def printtime(t):\n",
    "    print(\"Hours: \",t.hour)\n",
    "    print(\"Minute: \",t.minute)\n",
    "    print(\"Seconds: \",t.second)   "
   ]
  },
  {
   "cell_type": "code",
   "execution_count": 7,
   "metadata": {
    "scrolled": true
   },
   "outputs": [
    {
     "name": "stdout",
     "output_type": "stream",
     "text": [
      "Hours:  11\n",
      "Minute:  59\n",
      "Seconds:  30\n"
     ]
    }
   ],
   "source": [
    "printtime(time)"
   ]
  },
  {
   "cell_type": "code",
   "execution_count": 8,
   "metadata": {},
   "outputs": [],
   "source": [
    "def print_time(t):\n",
    "    \"\"\"Prints a string representation of the time.\n",
    "    \n",
    "    t1 Time object\n",
    "    \"\"\"\n",
    "    print(\"%.2d:%.2d:%.2d\" % (t.hour, t.minute, t.second))\n",
    "    "
   ]
  },
  {
   "cell_type": "code",
   "execution_count": 9,
   "metadata": {},
   "outputs": [
    {
     "name": "stdout",
     "output_type": "stream",
     "text": [
      "11:59:30\n"
     ]
    }
   ],
   "source": [
    "print_time(time)"
   ]
  },
  {
   "cell_type": "code",
   "execution_count": 12,
   "metadata": {},
   "outputs": [
    {
     "name": "stdout",
     "output_type": "stream",
     "text": [
      "<class 'datetime.datetime'>\n",
      "2018-09-19 13:55:26\n"
     ]
    }
   ],
   "source": [
    "from datetime import datetime\n",
    "\n",
    "tstr = '09/19/18 13:55:26'\n",
    "\n",
    "dobject = datetime.strptime(tstr, '%m/%d/%y %H:%M:%S')\n",
    "\n",
    "print(type(dobject))\n",
    "print(dobject)"
   ]
  },
  {
   "cell_type": "code",
   "execution_count": 13,
   "metadata": {},
   "outputs": [
    {
     "name": "stdout",
     "output_type": "stream",
     "text": [
      "<class 'datetime.datetime'>\n",
      "2020-04-25 05:50:02\n"
     ]
    }
   ],
   "source": [
    "from datetime import datetime\n",
    "\n",
    "tstr1 = '04/25/20 05:50:02'\n",
    "\n",
    "objdate = datetime.strptime(tstr1, '%m/%d/%y %H:%M:%S')\n",
    "print(type(objdate))\n",
    "print(objdate)"
   ]
  },
  {
   "cell_type": "code",
   "execution_count": null,
   "metadata": {},
   "outputs": [],
   "source": []
  },
  {
   "cell_type": "markdown",
   "metadata": {},
   "source": [
    "# Classes,Objects & Ref_Variables"
   ]
  },
  {
   "cell_type": "code",
   "execution_count": 12,
   "metadata": {},
   "outputs": [
    {
     "name": "stdout",
     "output_type": "stream",
     "text": [
      "Inside constructor\n",
      "Id of object referred by mob1 reference variable is:  2288019766480\n",
      "Id of object referred by mob2 reference variable is:  2288019766480\n"
     ]
    },
    {
     "data": {
      "text/plain": [
       "1000"
      ]
     },
     "execution_count": 12,
     "metadata": {},
     "output_type": "execute_result"
    }
   ],
   "source": [
    "class Mobile:\n",
    "    def __init__(self, price, brand):\n",
    "        print(\"Inside constructor\")\n",
    "        self.pric = price\n",
    "        self.brand = brand\n",
    "mob1 = Mobile(1000, \"Apple\")\n",
    "mob2 = mob1\n",
    "print(\"Id of object referred by mob1 reference variable is: \", id(mob1))\n",
    "print(\"Id of object referred by mob2 reference variable is: \", id(mob2))\n",
    "mob1.pric"
   ]
  },
  {
   "cell_type": "code",
   "execution_count": null,
   "metadata": {},
   "outputs": [],
   "source": []
  }
 ],
 "metadata": {
  "kernelspec": {
   "display_name": "Python 3",
   "language": "python",
   "name": "python3"
  },
  "language_info": {
   "codemirror_mode": {
    "name": "ipython",
    "version": 3
   },
   "file_extension": ".py",
   "mimetype": "text/x-python",
   "name": "python",
   "nbconvert_exporter": "python",
   "pygments_lexer": "ipython3",
   "version": "3.9.0"
  }
 },
 "nbformat": 4,
 "nbformat_minor": 4
}
