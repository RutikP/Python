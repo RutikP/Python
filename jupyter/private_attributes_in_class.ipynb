{
 "cells": [
  {
   "cell_type": "code",
   "execution_count": 12,
   "metadata": {},
   "outputs": [
    {
     "name": "stdout",
     "output_type": "stream",
     "text": [
      "the balance is 50\n",
      "the balance is 1000\n",
      "The age is  50\n",
      "the balance is 2000\n",
      "The age is  50\n"
     ]
    }
   ],
   "source": [
    "class Customer:\n",
    "    def __init__(self,cust_id,name,age,wallet_balance):\n",
    "        self.cust_id = cust_id\n",
    "        self.name = name\n",
    "        self.age = age\n",
    "        self.__wallet_balance = wallet_balance\n",
    "    def update_balance(self,amount):\n",
    "        if amount < 1000 and amount > 0:\n",
    "            self.__wallet_balance += amount\n",
    "    def show_balance(self):\n",
    "        print(\"the balance is\", self.__wallet_balance)\n",
    "        print(\"The age is \",self.age)\n",
    "c1 = Customer(100,\"Gopal\",24,1000)\n",
    "# c1.update_balance(500)\n",
    "c1.wallet_balance = 50 # this wallet_balance has become a local variable\n",
    "c1.__wallet_balance = 200 # this wallet_balance has also become a local variable\n",
    "print(\"the balance is\",c1.wallet_balance)\n",
    "c1.age = 50\n",
    "c1.show_balance()\n",
    "# We can access the private attribute outside the class. how? shown below...\n",
    "c1._Customer__wallet_balance = 2000\n",
    "c1.show_balance()"
   ]
  },
  {
   "cell_type": "markdown",
   "metadata": {},
   "source": [
    "# Getter and Setter Method"
   ]
  },
  {
   "cell_type": "code",
   "execution_count": 14,
   "metadata": {},
   "outputs": [
    {
     "name": "stdout",
     "output_type": "stream",
     "text": [
      "240\n"
     ]
    }
   ],
   "source": [
    "class Customer:\n",
    "    def __init__(self, id,name,age,wallet_balance):\n",
    "        self.id = id\n",
    "        self.name = name\n",
    "        self.age = age\n",
    "        self.__wallet_balance = wallet_balance\n",
    "    def set_wallet_balance(self,amount):\n",
    "        if amount < 1000 and amount > 0:\n",
    "            self.__wallet_balance = amount\n",
    "    def get_wallet_balance(self):\n",
    "        return self.__wallet_balance\n",
    "    \n",
    "c1 = Customer(100,\"Gopal\",24,1000)\n",
    "c1.set_wallet_balance(240)\n",
    "print(c1.get_wallet_balance())\n",
    "    "
   ]
  },
  {
   "cell_type": "code",
   "execution_count": 16,
   "metadata": {},
   "outputs": [
    {
     "name": "stdout",
     "output_type": "stream",
     "text": [
      "2000\n"
     ]
    }
   ],
   "source": [
    "class Table:\n",
    "    def __init__(self):\n",
    "        self.no_of_legs = 4\n",
    "        self.__glass_top = None\n",
    "        self.__wooden_top = None\n",
    "        \n",
    "    def assign_data(self,glass_top,wooden_top):\n",
    "        self.__glass_top = glass_top\n",
    "        self.__wooden_top = wooden_top\n",
    "        \n",
    "    def identify_rate(self,glass_top,wooden_top):\n",
    "        self.assign_data(glass_top,wooden_top)\n",
    "        if(self.__glass_top == True):\n",
    "            rate = 2000\n",
    "        elif(self,__wooden_top == True):\n",
    "            rate = 3000\n",
    "        else:\n",
    "            rate = 0\n",
    "        return rate\n",
    "dining_table = Table()\n",
    "rate = dining_table.identify_rate(True,False)\n",
    "print(rate)"
   ]
  },
  {
   "cell_type": "code",
   "execution_count": 17,
   "metadata": {},
   "outputs": [
    {
     "name": "stdout",
     "output_type": "stream",
     "text": [
      "Hello\n"
     ]
    }
   ],
   "source": [
    "print(\"Hello\")"
   ]
  }
 ],
 "metadata": {
  "kernelspec": {
   "display_name": "Python 3",
   "language": "python",
   "name": "python3"
  },
  "language_info": {
   "codemirror_mode": {
    "name": "ipython",
    "version": 3
   },
   "file_extension": ".py",
   "mimetype": "text/x-python",
   "name": "python",
   "nbconvert_exporter": "python",
   "pygments_lexer": "ipython3",
   "version": "3.9.0"
  }
 },
 "nbformat": 4,
 "nbformat_minor": 4
}
